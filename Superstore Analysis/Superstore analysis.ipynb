{
 "cells": [
  {
   "cell_type": "code",
   "execution_count": null,
   "id": "1526d808",
   "metadata": {},
   "outputs": [],
   "source": [
    "# JOIN Superstore_1 and Superstore_2 Table# \n",
    "\n",
    "SELECT * INTO Superstore \n",
    "FROM SUPERSTORE_1 \n",
    "UNION \n",
    "SELECT * FROM superstore_2;"
   ]
  },
  {
   "cell_type": "code",
   "execution_count": null,
   "id": "c1f692a7",
   "metadata": {},
   "outputs": [],
   "source": [
    "# CREATE NEW COLUMN TO DISPLAY THE SALES OF THE NEXT ROW IN THE DATA\n",
    "\n",
    "SELECT    \n",
    " Row_ID, Sales,\n",
    " LEAD (Sales, 1, 0)\n",
    " OVER(ORDER BY Row_ID) AS Sales_Next\n",
    "FROM Superstore;"
   ]
  },
  {
   "cell_type": "code",
   "execution_count": null,
   "id": "bee00643",
   "metadata": {},
   "outputs": [],
   "source": [
    "# CREATE NEW COLUMN TO DISPLAY THE SALES OF THE NEXT PREVIOUS IN THE DATA\n",
    "\n",
    "SELECT\n",
    " Row_ID, Sales,\n",
    " LAG (Sales, 1, 0)\n",
    " OVER(ORDER BY Row_ID) AS Sales_Previous\n",
    "FROM Superstore;"
   ]
  },
  {
   "cell_type": "code",
   "execution_count": null,
   "id": "0466a804",
   "metadata": {},
   "outputs": [],
   "source": [
    "# RANK DATA BASED ON SALES \n",
    "\n",
    "SELECT\n",
    " Row_ID, Sales,\n",
    " RANK ()\n",
    " OVER(ORDER BY Sales DESC) AS Sales_Rank\n",
    "FROM Superstore;"
   ]
  },
  {
   "cell_type": "code",
   "execution_count": null,
   "id": "f8670e6e",
   "metadata": {},
   "outputs": [],
   "source": [
    "# DAILY SALES AVERAGE\n",
    "\n",
    "SELECT \n",
    " AVG(Sales) AS Avgsales\n",
    "FROM SuperStore;"
   ]
  },
  {
   "cell_type": "code",
   "execution_count": null,
   "id": "73f1de7b",
   "metadata": {},
   "outputs": [],
   "source": [
    "# MONTHLY SALES AVERAGE\n",
    "\n",
    "SELECT \n",
    "  AVG(Sales) AS Avgsales, DATENAME(MONTH, Order_Date) Month\n",
    "FROM SuperStore\n",
    "GROUP BY DATENAME(MONTH, Order_Date)\n",
    "ORDER BY Avgsales;"
   ]
  },
  {
   "cell_type": "code",
   "execution_count": null,
   "id": "6d6a2000",
   "metadata": {},
   "outputs": [],
   "source": [
    "# DISCOUNT ON TWO CONSECUTIVE DAYS\n",
    "\n",
    "SELECT \n",
    "Order_date, Sales, Discount\n",
    "FROM Superstore\n",
    "WHERE Order_Date between '2014-01-18' AND '2014-01-19'"
   ]
  },
  {
   "cell_type": "code",
   "execution_count": null,
   "id": "0e75c404",
   "metadata": {},
   "outputs": [],
   "source": [
    "# MOVING AVERAGE\n",
    "\n",
    "SELECT\n",
    " Order_date,TotalSales,  AVG(TotalDiscount)\n",
    " OVER(ORDER BY Order_Date ROWS BETWEEN 1 PRECEDING AND CURRENT ROW) TwoDaysMovingAverage\n",
    "FROM (\n",
    " SELECT SUM(Sales) AS Totalsales, SUM(discount) AS Totaldiscount, Order_Date\n",
    "FROM SuperStore\n",
    "GROUP BY Order_Date) AS MovingAvg;"
   ]
  }
 ],
 "metadata": {
  "kernelspec": {
   "display_name": "Python 3 (ipykernel)",
   "language": "python",
   "name": "python3"
  },
  "language_info": {
   "codemirror_mode": {
    "name": "ipython",
    "version": 3
   },
   "file_extension": ".py",
   "mimetype": "text/x-python",
   "name": "python",
   "nbconvert_exporter": "python",
   "pygments_lexer": "ipython3",
   "version": "3.9.13"
  }
 },
 "nbformat": 4,
 "nbformat_minor": 5
}
